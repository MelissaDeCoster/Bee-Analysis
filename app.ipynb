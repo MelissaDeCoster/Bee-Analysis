{
 "cells": [
  {
   "cell_type": "code",
   "execution_count": 1,
   "metadata": {},
   "outputs": [],
   "source": [
    "import pandas as pd"
   ]
  },
  {
   "cell_type": "code",
   "execution_count": 2,
   "metadata": {},
   "outputs": [
    {
     "data": {
      "text/html": [
       "<div>\n",
       "<style scoped>\n",
       "    .dataframe tbody tr th:only-of-type {\n",
       "        vertical-align: middle;\n",
       "    }\n",
       "\n",
       "    .dataframe tbody tr th {\n",
       "        vertical-align: top;\n",
       "    }\n",
       "\n",
       "    .dataframe thead th {\n",
       "        text-align: right;\n",
       "    }\n",
       "</style>\n",
       "<table border=\"1\" class=\"dataframe\">\n",
       "  <thead>\n",
       "    <tr style=\"text-align: right;\">\n",
       "      <th></th>\n",
       "      <th>timestamp</th>\n",
       "      <th>flow</th>\n",
       "      <th>hive</th>\n",
       "    </tr>\n",
       "  </thead>\n",
       "  <tbody>\n",
       "    <tr>\n",
       "      <th>0</th>\n",
       "      <td>2017-01-01 14:15:00</td>\n",
       "      <td>0</td>\n",
       "      <td>schwartau</td>\n",
       "    </tr>\n",
       "    <tr>\n",
       "      <th>1</th>\n",
       "      <td>2017-01-01 14:16:00</td>\n",
       "      <td>0</td>\n",
       "      <td>schwartau</td>\n",
       "    </tr>\n",
       "    <tr>\n",
       "      <th>2</th>\n",
       "      <td>2017-01-01 14:17:00</td>\n",
       "      <td>0</td>\n",
       "      <td>schwartau</td>\n",
       "    </tr>\n",
       "    <tr>\n",
       "      <th>3</th>\n",
       "      <td>2017-01-01 14:18:00</td>\n",
       "      <td>0</td>\n",
       "      <td>schwartau</td>\n",
       "    </tr>\n",
       "    <tr>\n",
       "      <th>4</th>\n",
       "      <td>2017-01-01 14:19:00</td>\n",
       "      <td>0</td>\n",
       "      <td>schwartau</td>\n",
       "    </tr>\n",
       "  </tbody>\n",
       "</table>\n",
       "</div>"
      ],
      "text/plain": [
       "             timestamp  flow       hive\n",
       "0  2017-01-01 14:15:00     0  schwartau\n",
       "1  2017-01-01 14:16:00     0  schwartau\n",
       "2  2017-01-01 14:17:00     0  schwartau\n",
       "3  2017-01-01 14:18:00     0  schwartau\n",
       "4  2017-01-01 14:19:00     0  schwartau"
      ]
     },
     "execution_count": 2,
     "metadata": {},
     "output_type": "execute_result"
    }
   ],
   "source": [
    "file_path = 'data/flow_schwartau.csv'\n",
    "\n",
    "\n",
    "schwartau_flow_df = pd.read_csv(file_path)\n",
    "schwartau_flow_df['hive'] = 'schwartau'\n",
    "schwartau_flow_df.head()"
   ]
  },
  {
   "cell_type": "code",
   "execution_count": 3,
   "metadata": {},
   "outputs": [
    {
     "data": {
      "text/html": [
       "<div>\n",
       "<style scoped>\n",
       "    .dataframe tbody tr th:only-of-type {\n",
       "        vertical-align: middle;\n",
       "    }\n",
       "\n",
       "    .dataframe tbody tr th {\n",
       "        vertical-align: top;\n",
       "    }\n",
       "\n",
       "    .dataframe thead th {\n",
       "        text-align: right;\n",
       "    }\n",
       "</style>\n",
       "<table border=\"1\" class=\"dataframe\">\n",
       "  <thead>\n",
       "    <tr style=\"text-align: right;\">\n",
       "      <th></th>\n",
       "      <th>timestamp</th>\n",
       "      <th>flow</th>\n",
       "      <th>hive</th>\n",
       "    </tr>\n",
       "  </thead>\n",
       "  <tbody>\n",
       "    <tr>\n",
       "      <th>0</th>\n",
       "      <td>2017-01-01 05:15:00</td>\n",
       "      <td>0</td>\n",
       "      <td>wurzburg</td>\n",
       "    </tr>\n",
       "    <tr>\n",
       "      <th>1</th>\n",
       "      <td>2017-01-01 05:16:00</td>\n",
       "      <td>0</td>\n",
       "      <td>wurzburg</td>\n",
       "    </tr>\n",
       "    <tr>\n",
       "      <th>2</th>\n",
       "      <td>2017-01-01 05:17:00</td>\n",
       "      <td>0</td>\n",
       "      <td>wurzburg</td>\n",
       "    </tr>\n",
       "    <tr>\n",
       "      <th>3</th>\n",
       "      <td>2017-01-01 05:18:00</td>\n",
       "      <td>0</td>\n",
       "      <td>wurzburg</td>\n",
       "    </tr>\n",
       "    <tr>\n",
       "      <th>4</th>\n",
       "      <td>2017-01-01 05:19:00</td>\n",
       "      <td>0</td>\n",
       "      <td>wurzburg</td>\n",
       "    </tr>\n",
       "  </tbody>\n",
       "</table>\n",
       "</div>"
      ],
      "text/plain": [
       "             timestamp  flow      hive\n",
       "0  2017-01-01 05:15:00     0  wurzburg\n",
       "1  2017-01-01 05:16:00     0  wurzburg\n",
       "2  2017-01-01 05:17:00     0  wurzburg\n",
       "3  2017-01-01 05:18:00     0  wurzburg\n",
       "4  2017-01-01 05:19:00     0  wurzburg"
      ]
     },
     "execution_count": 3,
     "metadata": {},
     "output_type": "execute_result"
    }
   ],
   "source": [
    "file_path = 'data/flow_wurzburg.csv'\n",
    "\n",
    "\n",
    "wurzburg_flow_df = pd.read_csv(file_path)\n",
    "wurzburg_flow_df['hive'] = 'wurzburg'\n",
    "wurzburg_flow_df.head()\n"
   ]
  },
  {
   "cell_type": "code",
   "execution_count": 4,
   "metadata": {},
   "outputs": [
    {
     "data": {
      "text/plain": [
       "timestamp    4585556\n",
       "flow         4585556\n",
       "hive         4585556\n",
       "date         4585556\n",
       "time         4585556\n",
       "dtype: int64"
      ]
     },
     "execution_count": 4,
     "metadata": {},
     "output_type": "execute_result"
    }
   ],
   "source": [
    "frames = [wurzburg_flow_df, schwartau_flow_df]\n",
    "\n",
    "combo_flow_df = pd.concat(frames)\n",
    "\n",
    "\n",
    "combo_flow_df['timestamp'] = pd.to_datetime(combo_flow_df['timestamp'])\n",
    "combo_flow_df = combo_flow_df.sort_values(by=['timestamp'])\n",
    "\n",
    "combo_flow_df['date'] = [d.date() for d in combo_flow_df['timestamp']]\n",
    "combo_flow_df['time'] = [d.time() for d in combo_flow_df['timestamp']]\n",
    "\n",
    "\n",
    "combo_flow_df.count()"
   ]
  },
  {
   "cell_type": "code",
   "execution_count": 6,
   "metadata": {},
   "outputs": [
    {
     "data": {
      "text/html": [
       "<div>\n",
       "<style scoped>\n",
       "    .dataframe tbody tr th:only-of-type {\n",
       "        vertical-align: middle;\n",
       "    }\n",
       "\n",
       "    .dataframe tbody tr th {\n",
       "        vertical-align: top;\n",
       "    }\n",
       "\n",
       "    .dataframe thead th {\n",
       "        text-align: right;\n",
       "    }\n",
       "</style>\n",
       "<table border=\"1\" class=\"dataframe\">\n",
       "  <thead>\n",
       "    <tr style=\"text-align: right;\">\n",
       "      <th></th>\n",
       "      <th>timestamp</th>\n",
       "      <th>humidity</th>\n",
       "      <th>hive</th>\n",
       "    </tr>\n",
       "  </thead>\n",
       "  <tbody>\n",
       "    <tr>\n",
       "      <th>0</th>\n",
       "      <td>2017-01-01 13:00:00</td>\n",
       "      <td>98.040310</td>\n",
       "      <td>schwartau</td>\n",
       "    </tr>\n",
       "    <tr>\n",
       "      <th>1</th>\n",
       "      <td>2017-01-02 01:00:00</td>\n",
       "      <td>98.610556</td>\n",
       "      <td>schwartau</td>\n",
       "    </tr>\n",
       "    <tr>\n",
       "      <th>2</th>\n",
       "      <td>2017-01-02 13:00:00</td>\n",
       "      <td>99.002083</td>\n",
       "      <td>schwartau</td>\n",
       "    </tr>\n",
       "    <tr>\n",
       "      <th>3</th>\n",
       "      <td>2017-01-03 01:00:00</td>\n",
       "      <td>98.486806</td>\n",
       "      <td>schwartau</td>\n",
       "    </tr>\n",
       "    <tr>\n",
       "      <th>4</th>\n",
       "      <td>2017-01-03 13:00:00</td>\n",
       "      <td>98.320139</td>\n",
       "      <td>schwartau</td>\n",
       "    </tr>\n",
       "  </tbody>\n",
       "</table>\n",
       "</div>"
      ],
      "text/plain": [
       "             timestamp   humidity       hive\n",
       "0  2017-01-01 13:00:00  98.040310  schwartau\n",
       "1  2017-01-02 01:00:00  98.610556  schwartau\n",
       "2  2017-01-02 13:00:00  99.002083  schwartau\n",
       "3  2017-01-03 01:00:00  98.486806  schwartau\n",
       "4  2017-01-03 13:00:00  98.320139  schwartau"
      ]
     },
     "execution_count": 6,
     "metadata": {},
     "output_type": "execute_result"
    }
   ],
   "source": [
    "file_path = 'data/humidity_schwartau.csv'\n",
    "\n",
    "\n",
    "schwartau_humidity_df = pd.read_csv(file_path)\n",
    "schwartau_humidity_df['hive'] = 'schwartau'\n",
    "schwartau_humidity_df.head()"
   ]
  },
  {
   "cell_type": "code",
   "execution_count": null,
   "metadata": {},
   "outputs": [],
   "source": [
    "file_path = 'data/humidity_wurzburg.csv'\n",
    "\n",
    "\n",
    "wurzburg_humidity_df = pd.read_csv(file_path)\n",
    "wurzburg_humidity_df['hive'] = 'wurzburg'\n",
    "wurzburg_humidity_df.head()"
   ]
  },
  {
   "cell_type": "code",
   "execution_count": null,
   "metadata": {},
   "outputs": [],
   "source": [
    "frames = [wurzburg_humidity_df, schwartau_humidity_df]\n",
    "\n",
    "combo_humidity_df = pd.concat(frames)\n",
    "combo_humidity_df.count()"
   ]
  },
  {
   "cell_type": "code",
   "execution_count": null,
   "metadata": {},
   "outputs": [],
   "source": [
    "file_path = 'data/temperature_schwartau.csv'\n",
    "\n",
    "\n",
    "schwartau_temperature_df = pd.read_csv(file_path)\n",
    "schwartau_temperature_df['hive'] = 'schwartau'\n",
    "schwartau_temperature_df.head()"
   ]
  },
  {
   "cell_type": "code",
   "execution_count": null,
   "metadata": {},
   "outputs": [],
   "source": [
    "file_path = 'data/temperature_wurzburg.csv'\n",
    "\n",
    "\n",
    "wurzburg_temperature_df = pd.read_csv(file_path)\n",
    "wurzburg_temperature_df['hive'] = 'schwartau'\n",
    "wurzburg_temperature_df.head()"
   ]
  },
  {
   "cell_type": "code",
   "execution_count": null,
   "metadata": {},
   "outputs": [],
   "source": [
    "frames = [wurzburg_temperature_df, schwartau_temperature_df]\n",
    "\n",
    "combo_temperature_df = pd.concat(frames)\n",
    "combo_temperature_df['date'] = [d.date() for d in combo_temperature_df['timestamp']]\n",
    "combo_temperature_df['time'] = [d.time() for d in combo_temperature_df['timestamp']]\n",
    "\n",
    "combo_temperature_df.count()"
   ]
  },
  {
   "cell_type": "code",
   "execution_count": null,
   "metadata": {},
   "outputs": [],
   "source": [
    "file_path = 'data/weight_schwartau.csv'\n",
    "\n",
    "\n",
    "schwartau_weight_df = pd.read_csv(file_path)\n",
    "schwartau_weight_df['hive'] = 'schwartau'\n",
    "schwartau_weight_df.head()"
   ]
  },
  {
   "cell_type": "code",
   "execution_count": null,
   "metadata": {},
   "outputs": [],
   "source": [
    "file_path = 'data/weight_wurzburg.csv'\n",
    "\n",
    "\n",
    "wurzburg_weight_df = pd.read_csv(file_path)\n",
    "wurzburg_weight_df['hive'] = 'wurzburg'\n",
    "wurzburg_weight_df.head()"
   ]
  },
  {
   "cell_type": "code",
   "execution_count": null,
   "metadata": {},
   "outputs": [],
   "source": [
    "frames = [wurzburg_weight_df, schwartau_weight_df]\n",
    "\n",
    "combo_weight_df = pd.concat(frames)\n",
    "combo_weight_df.count()"
   ]
  },
  {
   "cell_type": "code",
   "execution_count": null,
   "metadata": {},
   "outputs": [],
   "source": [
    "df_join_part1 = combo_flow_df.set_index('timestamp').join(combo_humidity_df.set_index('timestamp'),rsuffix=\"_humidity\")\n",
    "df_join_part1.head(100)"
   ]
  },
  {
   "cell_type": "code",
   "execution_count": null,
   "metadata": {},
   "outputs": [],
   "source": []
  }
 ],
 "metadata": {
  "kernelspec": {
   "display_name": "Python 3",
   "language": "python",
   "name": "python3"
  },
  "language_info": {
   "codemirror_mode": {
    "name": "ipython",
    "version": 3
   },
   "file_extension": ".py",
   "mimetype": "text/x-python",
   "name": "python",
   "nbconvert_exporter": "python",
   "pygments_lexer": "ipython3",
   "version": "3.6.7"
  }
 },
 "nbformat": 4,
 "nbformat_minor": 2
}
